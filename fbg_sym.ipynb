{
 "cells": [
  {
   "cell_type": "markdown",
   "source": [
    "# Results"
   ],
   "metadata": {}
  },
  {
   "cell_type": "code",
   "execution_count": 1,
   "source": [
    "import numpy as np\r\n",
    "import matplotlib.pyplot as plt\r\n",
    "import fbg_swdm.visualization as vis\r\n",
    "import fbg_swdm.simulation as sim\r\n",
    "import fbg_swdm.variables as vars"
   ],
   "outputs": [],
   "metadata": {}
  },
  {
   "cell_type": "markdown",
   "source": [
    "## Change in Saturation"
   ],
   "metadata": {}
  },
  {
   "cell_type": "code",
   "execution_count": 2,
   "source": [
    "N = 100000\r\n",
    "vars.λ = np.linspace(vars.λ0 - vars.Δ, vars.λ0 + vars.Δ, N)\r\n",
    "plt.figure(figsize=(30,10))\r\n",
    "λb = np.array(1550*vars.n)\r\n",
    "Δλ=0.4*vars.n\r\n",
    "for S in np.linspace(1, 4, 4):\r\n",
    "    vars.S = S\r\n",
    "    X = sim.R(vars.λ, λb, vars.A[0], Δλ)\r\n",
    "    plt.plot(vars.λ, X, label='S='+str(S))\r\n",
    "plt.legend();"
   ],
   "outputs": [
    {
     "output_type": "display_data",
     "data": {
      "text/plain": [
       "<Figure size 2160x720 with 1 Axes>"
      ],
      "image/png": ""
     },
     "metadata": {
      "needs_background": "light"
     }
    }
   ],
   "metadata": {
    "scrolled": true
   }
  },
  {
   "cell_type": "markdown",
   "source": [
    "## Change in Bandwidth"
   ],
   "metadata": {}
  },
  {
   "cell_type": "code",
   "execution_count": 3,
   "source": [
    "vars.S = 2\r\n",
    "plt.figure(figsize=(30,10))\r\n",
    "λb = np.array(1550*vars.n)\r\n",
    "for Δλ in np.linspace(0.1,0.5, 5):\r\n",
    "    X = sim.R(vars.λ, λb, vars.A[0], Δλ*vars.n)\r\n",
    "    plt.plot(vars.λ, X, label='Δλ='+str(Δλ)+'[nm]')\r\n",
    "plt.legend();"
   ],
   "outputs": [
    {
     "output_type": "display_data",
     "data": {
      "text/plain": [
       "<Figure size 2160x720 with 1 Axes>"
      ],
      "image/png": ""
     },
     "metadata": {
      "needs_background": "light"
     }
    }
   ],
   "metadata": {}
  },
  {
   "cell_type": "markdown",
   "source": [
    "## Change in Amplitude"
   ],
   "metadata": {}
  },
  {
   "cell_type": "code",
   "execution_count": 4,
   "source": [
    "vars.S = 2\r\n",
    "plt.figure(figsize=(30,10))\r\n",
    "λb = np.array(1550*vars.n)\r\n",
    "for A in np.linspace(0.2,1, 5):\r\n",
    "    X = sim.R(vars.λ, λb, A, vars.Δλ[0])\r\n",
    "    plt.plot(vars.λ, X, label='A='+str(A))\r\n",
    "plt.legend();"
   ],
   "outputs": [
    {
     "output_type": "display_data",
     "data": {
      "text/plain": [
       "<Figure size 2160x720 with 1 Axes>"
      ],
      "image/png": ""
     },
     "metadata": {
      "needs_background": "light"
     }
    }
   ],
   "metadata": {}
  },
  {
   "cell_type": "markdown",
   "source": [
    "## Change in Bragg's Wavelength"
   ],
   "metadata": {}
  },
  {
   "cell_type": "code",
   "execution_count": 5,
   "source": [
    "vars.S = 2\n",
    "plt.figure(figsize=(30,10))\n",
    "for λb in np.linspace(vars.λ0 - vars.Δ*0.6, vars.λ0 + vars.Δ*0.6, 4):\n",
    "    X = sim.R(vars.λ, λb, vars.A[0], vars.Δλ[0])\n",
    "    plt.plot(vars.λ, X, label='λb='+str(λb))\n",
    "plt.legend();"
   ],
   "outputs": [
    {
     "output_type": "display_data",
     "data": {
      "text/plain": [
       "<Figure size 2160x720 with 1 Axes>"
      ],
      "image/png": ""
     },
     "metadata": {
      "needs_background": "light"
     }
    }
   ],
   "metadata": {}
  }
 ],
 "metadata": {
  "interpreter": {
   "hash": "0800f8510ed03d6d2a2a5a97c4a92a472c7524e9e664f13f7660f0d943c5eaa0"
  },
  "kernelspec": {
   "name": "python3",
   "display_name": "Python 3.8.10 64-bit ('fbg_syms': conda)"
  },
  "language_info": {
   "codemirror_mode": {
    "name": "ipython",
    "version": 3
   },
   "file_extension": ".py",
   "mimetype": "text/x-python",
   "name": "python",
   "nbconvert_exporter": "python",
   "pygments_lexer": "ipython3",
   "version": "3.8.10"
  }
 },
 "nbformat": 4,
 "nbformat_minor": 2
}